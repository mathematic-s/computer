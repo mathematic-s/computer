{
 "cells": [
  {
   "cell_type": "markdown",
   "metadata": {},
   "source": [
    "# 2022-09\n",
    "`cs架构`clientserver模式  \n",
    "我把快捷方式里的alt加数字改成了ctr加数字   \n",
    " \n",
    "`stl`\n",
    "1. containers   \n",
    "2. algorithms   \n",
    "3. iterators    \n",
    "\n",
    "`freopen(\"1.out\",\"w\",stdout); ` \n",
    "\n",
    "通常，编写清晰、容易理解的代码比使用语言的晦涩特性来显示自己的能力更为有用。\n",
    "\n",
    "---"
   ]
  },
  {
   "cell_type": "markdown",
   "metadata": {},
   "source": [
    "# 2022-10\n",
    "算法使用的内存空间分为三种：\n",
    "1. **指令空间**:编译后，程序指令所使用的内存空间。\n",
    "2. **数据空间**:算法中的各项变量使用的空间，包括：声明的常量、变量、动态数组、动态对象等使用的内存空间。\n",
    "3. **栈帧空间**:程序调用函数是基于栈实现的，函数在调用期间，占用常量大小的栈帧空间，直至返回后释放。\n",
    "---"
   ]
  },
  {
   "cell_type": "markdown",
   "metadata": {},
   "source": [
    "有些时候，使用晦涩特性不是用来展示自己能力的，而是用来提升程序运行效率和实现更多功能的。\n",
    "任何一门语言中都没有没用的特性，语言特性设计出来就一定有其需求。\n",
    "比如下面几行\n",
    "```\n",
    "r=x&-x;\n",
    "a^=b^=a^=b;\n",
    "r=(x>>(a-1))&1;\n",
    "```\n",
    "---"
   ]
  },
  {
   "cell_type": "markdown",
   "metadata": {},
   "source": [
    "```\n",
    "#if 0\n",
    "#endif\n",
    "```\n",
    "来注释掉代码\n",
    "\n",
    "---\n"
   ]
  },
  {
   "cell_type": "markdown",
   "metadata": {},
   "source": [
    "# 2022-11  \n",
    "`KPM算法`  串的模式匹配  \n",
    "`最长相等前后缀`  字符串最长的相等长度前缀和后缀,不包含字符串本身。"
   ]
  },
  {
   "cell_type": "markdown",
   "metadata": {},
   "source": [
    " `balanced binary tree` 平衡二叉树，又称AVL树（两个人名）。  \n",
    "&emsp;&emsp;是一种循**关键码**访问的二叉树，并且要求保持顺序性，即任一节点不小于其左后代，不大于其右后代  \n",
    "`堆` 一颗完全二叉树，某个结点的值总是不小于或者不大于其父节点的值，不大于的称为大堆，反之称为小堆。"
   ]
  },
  {
   "cell_type": "markdown",
   "metadata": {},
   "source": [
    "[兼容]()  \n",
    "直译有一个问题, 英语的\"前后\"在时间和空间上统一, 而汉语却是相反. 比如forward在空间上指前进, 在时间上指未来. 但是汉语中的\"前\"在空间上指前进, 在时间上却指过去.  \n",
    "**向前兼容**前进兼容  \n",
    "**向后兼容**后退兼容"
   ]
  },
  {
   "cell_type": "markdown",
   "metadata": {},
   "source": [
    "[vsode终端]() 输入chcp后，显示936 对应 GB 2312，65001 对应 UTF-8，windows 中文系统默认是 936。"
   ]
  },
  {
   "cell_type": "markdown",
   "metadata": {},
   "source": [
    "[cwd]() change word to double word"
   ]
  },
  {
   "cell_type": "markdown",
   "metadata": {},
   "source": [
    "[malloc]() memory allocation  内存分配  "
   ]
  },
  {
   "cell_type": "markdown",
   "metadata": {},
   "source": [
    "`<a id=\"\"></a>`出bug了，烦  \n",
    "这个不清楚是什么样的bug,重启一次又没了  "
   ]
  },
  {
   "cell_type": "markdown",
   "metadata": {},
   "source": [
    "[CRUD]() Create Read Update Delete  \n",
    "\n",
    "---"
   ]
  },
  {
   "attachments": {},
   "cell_type": "markdown",
   "metadata": {},
   "source": [
    "# 2022-12\n",
    "\n",
    "[PNG]()`Portable Network Graphics`  便携式网络图形，是一种采用无损压缩算法的位图格式，支持索引、灰度、RGB三种颜色方案以及Alpha通道等特性  \n",
    "[API]()`ApplicationProgramInterface`应用程序界面    "
   ]
  },
  {
   "cell_type": "markdown",
   "metadata": {},
   "source": [
    "转义用的是右斜  "
   ]
  },
  {
   "attachments": {},
   "cell_type": "markdown",
   "metadata": {},
   "source": [
    "`shift+tab`反向缩进"
   ]
  },
  {
   "attachments": {},
   "cell_type": "markdown",
   "metadata": {},
   "source": [
    "[代码风格]()    \n",
    "行尾风格：\n",
    "```\n",
    "test{\n",
    "\n",
    "}\n",
    "```\n",
    "次行风格:\n",
    "```\n",
    "test\n",
    "{\n",
    "    \n",
    "}\n",
    "```\n"
   ]
  },
  {
   "attachments": {},
   "cell_type": "markdown",
   "metadata": {},
   "source": [
    "\n",
    "[MSC]() microsoft management console  "
   ]
  },
  {
   "attachments": {},
   "cell_type": "markdown",
   "metadata": {},
   "source": [
    "[CPL]() Presentation(Compel) \"演示强制\"  "
   ]
  },
  {
   "attachments": {},
   "cell_type": "markdown",
   "metadata": {},
   "source": [
    "[FAT]() File Allocation Table 文件分配表  "
   ]
  },
  {
   "attachments": {},
   "cell_type": "markdown",
   "metadata": {},
   "source": [
    "[FCFS]() first come first service  "
   ]
  },
  {
   "attachments": {},
   "cell_type": "markdown",
   "metadata": {},
   "source": [
    "[无穷]()  \n",
    "正无穷0x3f3f3f3f`1061109567`  \n",
    "负无穷0xc0c0c0c0`-1061109568` 或 -0x3f3f3f3f  \n",
    "\n",
    "---"
   ]
  },
  {
   "attachments": {},
   "cell_type": "markdown",
   "metadata": {},
   "source": [
    "# 2023-01"
   ]
  },
  {
   "attachments": {},
   "cell_type": "markdown",
   "metadata": {},
   "source": [
    "[DHCP]()`Dynamic Host Configuration Protocol`，动态主机配置协议：计算机用来获得配置信息的协议。\n",
    "\n",
    "---"
   ]
  },
  {
   "attachments": {},
   "cell_type": "markdown",
   "metadata": {},
   "source": [
    "# 2023-02\n",
    "\n"
   ]
  },
  {
   "attachments": {},
   "cell_type": "markdown",
   "metadata": {},
   "source": [
    "[PHP]()personal home page,之后解释为hypertext preprocessor  \n",
    "[wine]() Windows Emulator,之后解释为Wine Is Not an Emulator  \n",
    "[GNU]() 许可证`GPL`: General Public License; 编译器`GCC`: General C Compiler,加入其他语言后改为Compilor Collection; 则GNU可能是General Not Unix."
   ]
  },
  {
   "attachments": {},
   "cell_type": "markdown",
   "metadata": {},
   "source": [
    "[NTFS]() New Technology File System,以`簇`为最小读写单元  \n",
    "<img width=\"1200\" height=\"100\" src=\"picture/1675944543421.jpeg.png\">"
   ]
  },
  {
   "attachments": {},
   "cell_type": "markdown",
   "metadata": {},
   "source": [
    "# [考研安排]()  \n",
    "考研408:数据结构，计算机组成原理，操作系统，计算机网络。30`:`30`:`23.3`:`16.7  \n",
    "单项选择题40小题，综合应用题7小题  "
   ]
  }
 ],
 "metadata": {
  "kernelspec": {
   "display_name": "Python 3",
   "language": "python",
   "name": "python3"
  },
  "language_info": {
   "name": "python",
   "version": "3.10.9 (tags/v3.10.9:1dd9be6, Dec  6 2022, 20:01:21) [MSC v.1934 64 bit (AMD64)]"
  },
  "orig_nbformat": 4,
  "vscode": {
   "interpreter": {
    "hash": "65676bf983ba4a082168debbac8ddc52c51ca84e6d56149af6134a383d9bf768"
   }
  }
 },
 "nbformat": 4,
 "nbformat_minor": 2
}
