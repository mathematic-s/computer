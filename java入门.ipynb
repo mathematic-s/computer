{
 "cells": [
  {
   "cell_type": "markdown",
   "metadata": {},
   "source": [
    "# <center> [写java程序我使用idea]()  \n",
    "[java基本概念]()  \n",
    "很早以前，java三大分支：javaSE、javaEE、javaME  \n",
    "(Java EE 已经被改名且融入到 Java 企业级框架之中，Java SE 已经成为 Java 的同义词，而 Java ME 已经逐渐被忘记了。)"
   ]
  },
  {
   "cell_type": "markdown",
   "metadata": {},
   "source": [
    "[javaSE]() Standard Edition(标准版)  \n",
    "Java SE 仅指 Java 技术中的基础部分，但这是一个历史遗留的概念，在很多有年代的文章中常常出现。现在不要使用这个名词了，直接使用 Java 一词即可。所以，当读者认为自己学会 Java 的时候，不要高兴得太早，这只是学完了 Java 中最基础的部分。"
   ]
  },
  {
   "cell_type": "markdown",
   "metadata": {},
   "source": [
    "[JDK]() Java Development Kit(java开发工具包)  \n",
    "如果不进行严格的区分，可以认为 JDK 与 Java SE 是一种等价的概念。很早以前，Java 中还有一个 JRE（Java Runtime Environment，Java 运行环境）的概念，而现在 JRE 已被合并到 JDK 中了。"
   ]
  },
  {
   "cell_type": "markdown",
   "metadata": {},
   "source": [
    "[javaEE]() Enterprise Edition(企业版)  \n",
    "Web 容器已经内置了 Java EE 的开发工具包。2018年，Java EE 改名为 Jakarta EE。"
   ]
  },
  {
   "cell_type": "markdown",
   "metadata": {},
   "source": [
    "[javaME]()\n",
    "Micro Edition  \n",
    "java ME 曾经在移动设备和嵌入式设备上使用。值得一提的是，虽然安卓属于嵌入式设备，且安卓开发大多使用 Java。但安卓开发中使用的 Java 并不是 Java ME。现在，在 Java 的相关流行技术中，Java ME 早已销声匿迹，成为时代的眼泪。"
   ]
  },
  {
   "cell_type": "markdown",
   "metadata": {},
   "source": [
    "[java创始人]() Gosling  "
   ]
  },
  {
   "cell_type": "markdown",
   "metadata": {},
   "source": [
    "[java的健壮性]() java的强类型机制、异常处理、垃圾自动收集是它的保障  "
   ]
  },
  {
   "cell_type": "markdown",
   "metadata": {},
   "source": [
    "[java的跨平台型]() 编译后的文件(.class)可直接分别在linux、windows系统下运行  "
   ]
  },
  {
   "cell_type": "markdown",
   "metadata": {},
   "source": [
    "[环境变量]() 当前执行的程序如果在当前目录不存在，win10会自动去名为path的环境变量中查找。  \n",
    "环境变量没有区分大小写，例如path跟PATH是一样的  \n",
    "如果系统变量和用户变量的PATH中同时包含了同一个命令，则优先执行系统变量PATH中的命令  "
   ]
  },
  {
   "attachments": {},
   "cell_type": "markdown",
   "metadata": {},
   "source": [
    "[系统文件]() LocalLow 文件夹与Local 文件夹基本相同，区别在于前者用于优先级较低的应用程序（运行时安全设置受限）"
   ]
  },
  {
   "attachments": {},
   "cell_type": "markdown",
   "metadata": {},
   "source": [
    "[常见错误]() \n",
    "* 语法错误:\n",
    "    * 相似字符混淆\n",
    "    * 中英字符错误\n",
    "    * 拼写错误\n",
    "* 业务错误\n",
    "* 环境错误  "
   ]
  },
  {
   "attachments": {},
   "cell_type": "markdown",
   "metadata": {},
   "source": [
    "[dos]()`Disk Operating System`"
   ]
  },
  {
   "attachments": {},
   "cell_type": "markdown",
   "metadata": {},
   "source": [
    "$$字符编码表\\left\\{\n",
    "\\begin{array}{lcl}\n",
    "ASCII: 128个字符\\\\\n",
    "Unicode：统一两字节\\\\\n",
    "utf-8：字母一字节，汉字三字节\\\\\n",
    "gbk：字母一字节，汉字二字节\\\\\n",
    "gb2312：<gbk\\\\\n",
    "big5:繁体中文，香港，台湾\n",
    "\\end{array} \\right.$$"
   ]
  },
  {
   "attachments": {},
   "cell_type": "markdown",
   "metadata": {},
   "source": [
    "`boolean`,布尔类型,不可用0或1代替."
   ]
  }
 ],
 "metadata": {
  "kernelspec": {
   "display_name": "Python 3",
   "language": "python",
   "name": "python3"
  },
  "language_info": {
   "name": "python",
   "version": "3.10.9 (tags/v3.10.9:1dd9be6, Dec  6 2022, 20:01:21) [MSC v.1934 64 bit (AMD64)]"
  },
  "orig_nbformat": 4,
  "vscode": {
   "interpreter": {
    "hash": "65676bf983ba4a082168debbac8ddc52c51ca84e6d56149af6134a383d9bf768"
   }
  }
 },
 "nbformat": 4,
 "nbformat_minor": 2
}
