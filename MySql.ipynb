{
 "cells": [
  {
   "attachments": {},
   "cell_type": "markdown",
   "metadata": {},
   "source": [
    "`Sql` `函数` `约束` `多表查询` `事务` `储存引擎` `索引` `Sql优化` `储存过程` `锁` `InnoDB核心` `MySql管理` `日志` `主从复制` `分库分表` `读写分离`"
   ]
  },
  {
   "attachments": {},
   "cell_type": "markdown",
   "metadata": {},
   "source": [
    "# [基础知识]()\n",
    "[数据库]()`Database`  \n",
    "[数据库管理系统]()`DataBaseManagementSystem`  "
   ]
  },
  {
   "attachments": {},
   "cell_type": "markdown",
   "metadata": {},
   "source": [
    "[SQL]()`Structured Query Language`"
   ]
  },
  {
   "cell_type": "markdown",
   "metadata": {},
   "source": [
    "`net start mysql80`  \n",
    "`net stop mysql80`  \n",
    "运行命令行，控制MySql服务器"
   ]
  },
  {
   "attachments": {},
   "cell_type": "markdown",
   "metadata": {},
   "source": [
    "`mysql -u root -p`启动MySql"
   ]
  },
  {
   "attachments": {},
   "cell_type": "markdown",
   "metadata": {},
   "source": [
    "[关系型数据库]()`RDBMS`建立在关系模型基础上，由多张相互连接的二维表组成的数据库  "
   ]
  },
  {
   "cell_type": "markdown",
   "metadata": {},
   "source": [
    "[单行注释]() `--`或`#`  \n"
   ]
  },
  {
   "attachments": {},
   "cell_type": "markdown",
   "metadata": {},
   "source": [
    "$$ SQL\\left\\{\n",
    "\\begin{array}{lcl}\n",
    "DDL:definition定义数据库对象(数据库，表，字段)\\\\\n",
    "DML:manipulation对数据进行增删改\\\\\n",
    "DQL:query查询表的记录\\\\\n",
    "DCL:control创造数据库用户，控制访问权限\\\\\n",
    "\\end{array} \\right.$$\n"
   ]
  }
 ],
 "metadata": {
  "kernelspec": {
   "display_name": "Python 3",
   "language": "python",
   "name": "python3"
  },
  "language_info": {
   "name": "python",
   "version": "3.10.9 (tags/v3.10.9:1dd9be6, Dec  6 2022, 20:01:21) [MSC v.1934 64 bit (AMD64)]"
  },
  "orig_nbformat": 4,
  "vscode": {
   "interpreter": {
    "hash": "65676bf983ba4a082168debbac8ddc52c51ca84e6d56149af6134a383d9bf768"
   }
  }
 },
 "nbformat": 4,
 "nbformat_minor": 2
}
