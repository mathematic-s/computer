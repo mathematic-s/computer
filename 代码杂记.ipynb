{
 "cells": [
  {
   "attachments": {},
   "cell_type": "markdown",
   "metadata": {},
   "source": [
    "# [C++]()"
   ]
  },
  {
   "attachments": {},
   "cell_type": "markdown",
   "metadata": {},
   "source": [
    "`cs架构`clientserver模式  \n",
    "我把快捷方式里的alt加数字改成了ctr加数字   \n",
    " \n",
    "`stl`\n",
    "1. containers   \n",
    "2. algorithms   \n",
    "3. iterators    \n",
    "\n",
    "`freopen(\"1.out\",\"w\",stdout); ` \n",
    "\n",
    "通常，编写清晰、容易理解的代码比使用语言的晦涩特性来显示自己的能力更为有用。\n",
    "\n",
    "---"
   ]
  },
  {
   "attachments": {},
   "cell_type": "markdown",
   "metadata": {},
   "source": [
    "算法使用的内存空间分为三种：\n",
    "1. **指令空间**:编译后，程序指令所使用的内存空间。\n",
    "2. **数据空间**:算法中的各项变量使用的空间，包括：声明的常量、变量、动态数组、动态对象等使用的内存空间。\n",
    "3. **栈帧空间**:程序调用函数是基于栈实现的，函数在调用期间，占用常量大小的栈帧空间，直至返回后释放。\n",
    "---"
   ]
  },
  {
   "cell_type": "markdown",
   "metadata": {},
   "source": [
    "有些时候，使用晦涩特性不是用来展示自己能力的，而是用来提升程序运行效率和实现更多功能的。\n",
    "任何一门语言中都没有没用的特性，语言特性设计出来就一定有其需求。\n",
    "比如下面几行\n",
    "```\n",
    "r=x&-x;\n",
    "a^=b^=a^=b;\n",
    "r=(x>>(a-1))&1;\n",
    "```\n",
    "---"
   ]
  },
  {
   "cell_type": "markdown",
   "metadata": {},
   "source": [
    "```\n",
    "#if 0\n",
    "#endif\n",
    "```\n",
    "来注释掉代码\n",
    "\n",
    "---\n"
   ]
  },
  {
   "attachments": {},
   "cell_type": "markdown",
   "metadata": {},
   "source": [
    "`KPM算法`  串的模式匹配  \n",
    "`最长相等前后缀`  字符串最长的相等长度前缀和后缀,不包含字符串本身。"
   ]
  },
  {
   "cell_type": "markdown",
   "metadata": {},
   "source": [
    " `balanced binary tree` 平衡二叉树，又称AVL树（两个人名）。  \n",
    "&emsp;&emsp;是一种循**关键码**访问的二叉树，并且要求保持顺序性，即任一节点不小于其左后代，不大于其右后代  \n",
    "`堆` 一颗完全二叉树，某个结点的值总是不小于或者不大于其父节点的值，不大于的称为大堆，反之称为小堆。"
   ]
  },
  {
   "cell_type": "markdown",
   "metadata": {},
   "source": [
    "[兼容]()  \n",
    "直译有一个问题, 英语的\"前后\"在时间和空间上统一, 而汉语却是相反. 比如forward在空间上指前进, 在时间上指未来. 但是汉语中的\"前\"在空间上指前进, 在时间上却指过去.  \n",
    "**向前兼容**前进兼容  \n",
    "**向后兼容**后退兼容"
   ]
  },
  {
   "cell_type": "markdown",
   "metadata": {},
   "source": [
    "[vsode终端]() 输入chcp后，显示936 对应 GB 2312，65001 对应 UTF-8，windows 中文系统默认是 936。"
   ]
  },
  {
   "cell_type": "markdown",
   "metadata": {},
   "source": [
    "[cwd]() change word to double word"
   ]
  },
  {
   "cell_type": "markdown",
   "metadata": {},
   "source": [
    "[malloc]() memory allocation  内存分配  "
   ]
  },
  {
   "cell_type": "markdown",
   "metadata": {},
   "source": [
    "`<a id=\"\"></a>`出bug了，烦  \n",
    "这个不清楚是什么样的bug,重启一次又没了  "
   ]
  },
  {
   "cell_type": "markdown",
   "metadata": {},
   "source": [
    "[CRUD]() Create Read Update Delete  \n",
    "\n",
    "---"
   ]
  },
  {
   "attachments": {},
   "cell_type": "markdown",
   "metadata": {},
   "source": [
    "\n",
    "[PNG]()`Portable Network Graphics`  便携式网络图形，是一种采用无损压缩算法的位图格式，支持索引、灰度、RGB三种颜色方案以及Alpha通道等特性  \n",
    "[API]()`ApplicationProgramInterface`应用程序界面    "
   ]
  },
  {
   "cell_type": "markdown",
   "metadata": {},
   "source": [
    "转义用的是右斜  "
   ]
  },
  {
   "attachments": {},
   "cell_type": "markdown",
   "metadata": {},
   "source": [
    "`shift+tab`反向缩进"
   ]
  },
  {
   "attachments": {},
   "cell_type": "markdown",
   "metadata": {},
   "source": [
    "[代码风格]()    \n",
    "行尾风格：\n",
    "```\n",
    "test{\n",
    "\n",
    "}\n",
    "```\n",
    "次行风格:\n",
    "```\n",
    "test\n",
    "{\n",
    "    \n",
    "}\n",
    "```\n"
   ]
  },
  {
   "attachments": {},
   "cell_type": "markdown",
   "metadata": {},
   "source": [
    "\n",
    "[MSC]() microsoft management console  "
   ]
  },
  {
   "attachments": {},
   "cell_type": "markdown",
   "metadata": {},
   "source": [
    "[CPL]() Presentation(Compel) \"演示强制\"  "
   ]
  },
  {
   "attachments": {},
   "cell_type": "markdown",
   "metadata": {},
   "source": [
    "[FAT]() File Allocation Table 文件分配表  "
   ]
  },
  {
   "attachments": {},
   "cell_type": "markdown",
   "metadata": {},
   "source": [
    "[FCFS]() first come first service  "
   ]
  },
  {
   "attachments": {},
   "cell_type": "markdown",
   "metadata": {},
   "source": [
    "[无穷]()  \n",
    "正无穷0x3f3f3f3f`1061109567`  \n",
    "负无穷0xc0c0c0c0`-1061109568` 或 -0x3f3f3f3f  \n",
    "\n",
    "---"
   ]
  },
  {
   "attachments": {},
   "cell_type": "markdown",
   "metadata": {},
   "source": [
    "[DHCP]()`Dynamic Host Configuration Protocol`，动态主机配置协议：计算机用来获得配置信息的协议。\n",
    "\n",
    "---"
   ]
  },
  {
   "attachments": {},
   "cell_type": "markdown",
   "metadata": {},
   "source": [
    "`0x`16进制，`0b`二进制，`NaN`非数值，"
   ]
  },
  {
   "attachments": {},
   "cell_type": "markdown",
   "metadata": {},
   "source": [
    "[PHP]()personal home page,之后解释为hypertext preprocessor  \n",
    "[wine]() Windows Emulator,之后解释为Wine Is Not an Emulator  \n",
    "[GNU]() 许可证`GPL`: General Public License; 编译器`GCC`: General C Compiler,加入其他语言后改为Compilor Collection; 则GNU可能是General Not Unix."
   ]
  },
  {
   "attachments": {},
   "cell_type": "markdown",
   "metadata": {},
   "source": [
    "[NTFS]() New Technology File System,以`簇`为最小读写单元  \n",
    "<img width=\"1200\" height=\"100\" src=\"picture/1675944543421.jpeg.png\">\n",
    "\n",
    "`typeid().name()`输出所属类型的首字母\n",
    "\n",
    "---"
   ]
  },
  {
   "attachments": {},
   "cell_type": "markdown",
   "metadata": {},
   "source": [
    "# [java]()"
   ]
  },
  {
   "attachments": {},
   "cell_type": "markdown",
   "metadata": {},
   "source": [
    "有小数运算时很多运算都会变成近似运算"
   ]
  },
  {
   "attachments": {},
   "cell_type": "markdown",
   "metadata": {},
   "source": [
    "[写java程序使用idea]()  \n",
    "[java基本概念]()  \n",
    "很早以前，java三大分支：javaSE、javaEE、javaME  \n",
    "(Java EE 已经被改名且融入到 Java 企业级框架之中，Java SE 已经成为 Java 的同义词，而 Java ME 已经逐渐被忘记了。)"
   ]
  },
  {
   "attachments": {},
   "cell_type": "markdown",
   "metadata": {},
   "source": [
    "[javaSE]() Standard Edition(标准版)  \n",
    "Java SE 仅指 Java 技术中的基础部分，但这是一个历史遗留的概念，在很多有年代的文章中常常出现。现在不要使用这个名词了，直接使用 Java 一词即可。所以，当读者认为自己学会 Java 的时候，不要高兴得太早，这只是学完了 Java 中最基础的部分。"
   ]
  },
  {
   "attachments": {},
   "cell_type": "markdown",
   "metadata": {},
   "source": [
    "[JDK]() Java Development Kit(java开发工具包)  \n",
    "如果不进行严格的区分，可以认为 JDK 与 Java SE 是一种等价的概念。很早以前，Java 中还有一个 JRE（Java Runtime Environment，Java 运行环境）的概念，而现在 JRE 已被合并到 JDK 中了。"
   ]
  },
  {
   "attachments": {},
   "cell_type": "markdown",
   "metadata": {},
   "source": [
    "[javaEE]() Enterprise Edition(企业版)  \n",
    "Web 容器已经内置了 Java EE 的开发工具包。2018年，Java EE 改名为 Jakarta EE。"
   ]
  },
  {
   "attachments": {},
   "cell_type": "markdown",
   "metadata": {},
   "source": [
    "[javaME]()\n",
    "Micro Edition  \n",
    "java ME 曾经在移动设备和嵌入式设备上使用。值得一提的是，虽然安卓属于嵌入式设备，且安卓开发大多使用 Java。但安卓开发中使用的 Java 并不是 Java ME。现在，在 Java 的相关流行技术中，Java ME 早已销声匿迹，成为时代的眼泪。"
   ]
  },
  {
   "attachments": {},
   "cell_type": "markdown",
   "metadata": {},
   "source": [
    "[java创始人]() Gosling  "
   ]
  },
  {
   "attachments": {},
   "cell_type": "markdown",
   "metadata": {},
   "source": [
    "[java的健壮性]() java的强类型机制、异常处理、垃圾自动收集是它的保障  "
   ]
  },
  {
   "cell_type": "markdown",
   "metadata": {},
   "source": [
    "[java的跨平台型]() 编译后的文件(.class)可直接分别在linux、windows系统下运行  "
   ]
  },
  {
   "cell_type": "markdown",
   "metadata": {},
   "source": [
    "[环境变量]() 当前执行的程序如果在当前目录不存在，win10会自动去名为path的环境变量中查找。  \n",
    "环境变量没有区分大小写，例如path跟PATH是一样的  \n",
    "如果系统变量和用户变量的PATH中同时包含了同一个命令，则优先执行系统变量PATH中的命令  "
   ]
  },
  {
   "attachments": {},
   "cell_type": "markdown",
   "metadata": {},
   "source": [
    "[常见错误]() \n",
    "* 语法错误:\n",
    "    * 相似字符混淆\n",
    "    * 中英字符错误\n",
    "    * 拼写错误\n",
    "* 业务错误\n",
    "* 环境错误  "
   ]
  },
  {
   "attachments": {},
   "cell_type": "markdown",
   "metadata": {},
   "source": [
    "$$字符编码表\\left\\{\n",
    "\\begin{array}{lcl}\n",
    "ASCII: 128个字符\\\\\n",
    "Unicode：统一两字节\\\\\n",
    "utf-8：字母一字节，汉字三字节\\\\\n",
    "gbk：字母一字节，汉字二字节\\\\\n",
    "gb2312：<gbk\\\\\n",
    "big5:繁体中文，香港，台湾\n",
    "\\end{array} \\right.$$"
   ]
  },
  {
   "attachments": {},
   "cell_type": "markdown",
   "metadata": {},
   "source": [
    "[dos]()`Disk Operating System`"
   ]
  },
  {
   "attachments": {},
   "cell_type": "markdown",
   "metadata": {},
   "source": [
    "`boolean`,布尔类型,不可用0或1代替."
   ]
  },
  {
   "attachments": {},
   "cell_type": "markdown",
   "metadata": {},
   "source": [
    "[自动类型转换]() char`->`P; byte`->`short`->`P  \n",
    "P： int`->`long`->`float`->`double  "
   ]
  },
  {
   "attachments": {},
   "cell_type": "markdown",
   "metadata": {},
   "source": [
    "`byte` `short` `char`在参与运算时会自动转换为`int`  "
   ]
  },
  {
   "attachments": {},
   "cell_type": "markdown",
   "metadata": {},
   "source": [
    "[强制类型转换]() 符号()"
   ]
  },
  {
   "attachments": {},
   "cell_type": "markdown",
   "metadata": {},
   "source": [
    "[取模运算]() a%b =a-a/b*b  "
   ]
  },
  {
   "attachments": {},
   "cell_type": "markdown",
   "metadata": {},
   "source": [
    "[逻辑与`&&`和短路与`&`的区别]() 除了后者会发生短路现象外，没什么区别，同逻辑或`||`和短路或`|`"
   ]
  },
  {
   "attachments": {},
   "cell_type": "markdown",
   "metadata": {},
   "source": [
    "[jshell]() Read-Eval-Print Loop工具。"
   ]
  },
  {
   "attachments": {},
   "cell_type": "markdown",
   "metadata": {},
   "source": [
    "# [考研安排]()  \n",
    "考研408:数据结构，计算机组成原理，操作系统，计算机网络。30`:`30`:`23.3`:`16.7  \n",
    "单项选择题40小题，综合应用题7小题  "
   ]
  },
  {
   "attachments": {},
   "cell_type": "markdown",
   "metadata": {},
   "source": [
    "1，中文描述信息偏差。很多中文描述和实际完全不是那么一回事，表达有偏差，甚至是冗余甚至是错误理解，不要看这些垃圾书。\n",
    "2，计算机技术迭代非常快，现在学操作系统课程，都是在用riscv学写操作系统demo，为什么？因为x86过时的东西太多了，有包袱，让人初学者抓不住重点。\n",
    "还是那句话，建议，学底层知识，少看书，多动手理解，多看正经的官方文档。你要理解x86调用堆栈的过程，自己反编译看编译器怎么做的，而且不同的call type参数管理也有区别，比你看垃圾书得到的知识准确一百倍。"
   ]
  },
  {
   "attachments": {},
   "cell_type": "markdown",
   "metadata": {},
   "source": [
    "# [Front-end/Web 开发]()"
   ]
  },
  {
   "attachments": {},
   "cell_type": "markdown",
   "metadata": {},
   "source": [
    "## [杂记]()"
   ]
  },
  {
   "attachments": {},
   "cell_type": "markdown",
   "metadata": {},
   "source": [
    " [CGI]() common gateway interface 公共网关接口  \n",
    "[script]() 脚本语言，是介于HTML和Java、C++和Visual Basic之类的编程语言之间的语言。  \n",
    "[javascript]() 是一种基于对象(Object)和事件驱动(Event Driven)并具有安全性能的脚本语言。  \n",
    "[pps]() precision positioning system网络吞吐率  \n",
    "[API]() application program interface应用程序界面 \n",
    "\n",
    "---"
   ]
  },
  {
   "attachments": {},
   "cell_type": "markdown",
   "metadata": {},
   "source": [
    "[网络搜索]()\n",
    "\n",
    "[inurl:,intitle,intext]() 搜索功能值  \n",
    "[网站后缀]() `com`商业公司，`gov`政府机构，`edu`教育机构，`net`网络服务提供，`org`组织协会机构,`int`国际组织，`co`社区或公司，`info`信息服务提供，`mil`军事机构  \n",
    "[时间限制]() x..y从x年到y年  \n",
    "[指定网站搜索]() 关键词 site:网站网址 \n",
    "\n",
    "---"
   ]
  },
  {
   "attachments": {},
   "cell_type": "markdown",
   "metadata": {},
   "source": [
    "$$ 应用软件\\left\\{\n",
    "\\begin{array}{lcl}\n",
    "单机软件(本地应用程序与本地服务端)\\\\\n",
    "C/S结构(本地应用程序与服务器服务端)\\\\\n",
    "B/S结构(浏览器访问)\\\\\n",
    "\\end{array} \\right.$$"
   ]
  },
  {
   "attachments": {},
   "cell_type": "markdown",
   "metadata": {},
   "source": [
    "[胖客户端Fat client]() 是在本地安装了丰富资源的网络电脑，而不是像瘦客户端那样把资源分散到网络中。比如很多PC（个人电脑）就是胖客户端  "
   ]
  },
  {
   "attachments": {},
   "cell_type": "markdown",
   "metadata": {},
   "source": [
    "[HTTP]() 用于传输超媒体文档(例如HTML)的应用层协议  \n",
    "<img width=\"800\" height=\"300\" src=\"picture/Snipaste_2023-02-27_15-57-31.png\">\n",
    "<img width=\"600\" height=\"300\" src=\"picture/Snipaste_2023-02-27_16-18-30.png\">"
   ]
  },
  {
   "attachments": {},
   "cell_type": "markdown",
   "metadata": {},
   "source": [
    "动态网页技术: \n",
    "* [PHP]() hypertext preprocessor  \n",
    "* [JSP]() Java Server Pages JavaEE的动态网页技术  \n",
    "* [ASP:`Active Server Pages`]() 微软公司windows平台动态网页技术  \n",
    "* [ASP.NET]() 微软.NET平台动态网页技术  \n",
    "* [Python]() Django  \n",
    "* [Node]() Express  \n",
    "\n"
   ]
  },
  {
   "attachments": {},
   "cell_type": "markdown",
   "metadata": {},
   "source": [
    "[前端框架]() \n",
    "* Angular\n",
    "    * google\n",
    "    * typescript \n",
    "* React\n",
    "    * facebook\n",
    "    * javascript\n",
    "* Vue\n",
    "    * 尤雨溪"
   ]
  },
  {
   "attachments": {},
   "cell_type": "markdown",
   "metadata": {},
   "source": [
    "[后端框架]()\n",
    "* Java Servlet\n",
    "* SpringBoot\n",
    "* Node Express\n",
    "* PHP\n",
    "* ASP.NET\n",
    "* Python\n",
    "* C++/Golang"
   ]
  },
  {
   "attachments": {},
   "cell_type": "markdown",
   "metadata": {},
   "source": [
    "[浏览器内核]()\n",
    "* Trident IE内核\n",
    "* Gecko Firefox内核\n",
    "* Webkit Safari内核\n",
    "* Blink Chrome内核"
   ]
  },
  {
   "attachments": {},
   "cell_type": "markdown",
   "metadata": {},
   "source": [
    "## [HTML]() HyperText Markup Language超文本标记语言  \n"
   ]
  },
  {
   "cell_type": "markdown",
   "metadata": {},
   "source": [
    "\n",
    "[渲染Render]() 浏览器将HTML,CSS,JS展示在页面的过程称之  "
   ]
  },
  {
   "attachments": {},
   "cell_type": "markdown",
   "metadata": {},
   "source": [
    "[嵌套元素]() 将一个元素置于其他元素之中  \n",
    "[空元素(自闭和标签)]() 不含任何内容的元素，如`<img>`  \n",
    " <center> <img width=\"600\" height=\"300\" src=\"picture/Snipaste_2023-03-01_16-25-45.png\">\n",
    "  <img width=\"600\" height=\"300\" src=\"picture/Snipaste_2023-03-01_16-28-25.png\">\n",
    "  <img width=\"600\" height=\"300\" src=\"picture/Snipaste_2023-03-01_16-38-30.png\">"
   ]
  },
  {
   "attachments": {},
   "cell_type": "markdown",
   "metadata": {},
   "source": [
    "## [CSS]() 一种描述HTML(以及其他XML`extensible Markup Language`)文档样式的语言"
   ]
  },
  {
   "attachments": {},
   "cell_type": "markdown",
   "metadata": {},
   "source": [
    "css语法：\n",
    "\n",
    "<img src=\"picture/Snipaste_2023-03-05_22-50-36.png\">"
   ]
  },
  {
   "attachments": {},
   "cell_type": "markdown",
   "metadata": {},
   "source": [
    "[选择器]()\n",
    "* 元素\n",
    "* id\n",
    "* 类\n",
    "* 通用 用*表示选择所有元素\n",
    "* 分组 元素的合并分组\n",
    "* 后代\n",
    "* 子元素\n",
    "* 兄弟\n"
   ]
  },
  {
   "attachments": {},
   "cell_type": "markdown",
   "metadata": {},
   "source": [
    "使用CSS的方法\n",
    "* 内部CSS 在`<head>`区用`<style>`标签定义\n",
    "* 外部CSS 用`<link>`以外部文件方式引入\n",
    "* 行内CSS 以`style=\"\"`方式定义\n"
   ]
  },
  {
   "attachments": {},
   "cell_type": "markdown",
   "metadata": {},
   "source": [
    "[盒子模型]() 网页中的每个元素都可以看作一个盒子模型"
   ]
  },
  {
   "attachments": {},
   "cell_type": "markdown",
   "metadata": {},
   "source": [
    "[CSS布局]() \n",
    "* 弹性布局`Flex Box`\n",
    "* 网格布局`Grid`\n",
    "* 响应式布局`自适应布局`"
   ]
  },
  {
   "attachments": {},
   "cell_type": "markdown",
   "metadata": {},
   "source": [
    "## [JavaScript]() 运行在浏览器中的Web前端脚本语言\n",
    "ECMAScript是标准，JS是ES的一种实现或方言"
   ]
  },
  {
   "attachments": {},
   "cell_type": "markdown",
   "metadata": {},
   "source": [
    "### [DOM]() `Document Object Model`  文档对象模型"
   ]
  },
  {
   "attachments": {},
   "cell_type": "markdown",
   "metadata": {},
   "source": [
    "[BOM]() `Browser Object Model` BOM包含DOM"
   ]
  },
  {
   "attachments": {},
   "cell_type": "markdown",
   "metadata": {},
   "source": [
    "[AJAX]() `Asynchronous Javascript And Xml` 不刷新页面更新网页"
   ]
  },
  {
   "attachments": {},
   "cell_type": "markdown",
   "metadata": {},
   "source": [
    "[JSON]() `JavaScript Object Notation` 一种储存和交换数据的语法规范  \n",
    "并列的数据用`,`分割  \n",
    "映射用`:`表示  \n",
    "并列数据的集合(数组)用`[]`表示  \n",
    "映射的集合(对象)用`{}`表示  "
   ]
  },
  {
   "attachments": {},
   "cell_type": "markdown",
   "metadata": {},
   "source": [
    "### [jQuery]() 最受欢迎的JavaScript库"
   ]
  },
  {
   "attachments": {},
   "cell_type": "markdown",
   "metadata": {},
   "source": [
    "### [JS语法规则]()"
   ]
  },
  {
   "attachments": {},
   "cell_type": "markdown",
   "metadata": {},
   "source": [
    "标志符以字母，下划线或美元符号开头"
   ]
  },
  {
   "attachments": {},
   "cell_type": "markdown",
   "metadata": {},
   "source": [
    "[定义变量和输出]()\n",
    "```\n",
    "var a =5;//非块作用域(全局变量)\n",
    "{let b =2;}//b无法在这块作用域以外使用\n",
    "let a =[];//数组\n",
    "let f =function(){};//函数\n",
    "let g ={};//对象\n",
    "console.log(a);//输出a\n",
    "```"
   ]
  },
  {
   "attachments": {},
   "cell_type": "markdown",
   "metadata": {},
   "source": [
    "[解构赋值]() \n",
    "```\n",
    "let[a,b] =[5,7];//let a =5,b =7;\n",
    "```"
   ]
  },
  {
   "attachments": {},
   "cell_type": "markdown",
   "metadata": {},
   "source": [
    "[操作符]() 算数、关系、布尔、位、赋值"
   ]
  },
  {
   "attachments": {},
   "cell_type": "markdown",
   "metadata": {},
   "source": [
    "JS不区分整数和浮点数，所有数值都是64位，整数可精确15位，小数可精确17位  \n",
    "<img width=300 height=100 src=\"picture/Snipaste_2023-03-10_00-57-32.png\">"
   ]
  },
  {
   "attachments": {},
   "cell_type": "markdown",
   "metadata": {},
   "source": [
    "`${}` 反引号表示法，包含的字符串称为模板字符串"
   ]
  },
  {
   "attachments": {},
   "cell_type": "markdown",
   "metadata": {},
   "source": [
    "# [AI]()"
   ]
  },
  {
   "attachments": {},
   "cell_type": "markdown",
   "metadata": {},
   "source": [
    "telegram机器人Token\n",
    "6186449912:AAFGOuczy7uByILigLF31lsXexE5BOYWpaQ"
   ]
  }
 ],
 "metadata": {
  "kernelspec": {
   "display_name": "Python 3",
   "language": "python",
   "name": "python3"
  },
  "language_info": {
   "name": "python",
   "version": "3.10.9 (tags/v3.10.9:1dd9be6, Dec  6 2022, 20:01:21) [MSC v.1934 64 bit (AMD64)]"
  },
  "orig_nbformat": 4,
  "vscode": {
   "interpreter": {
    "hash": "65676bf983ba4a082168debbac8ddc52c51ca84e6d56149af6134a383d9bf768"
   }
  }
 },
 "nbformat": 4,
 "nbformat_minor": 2
}
