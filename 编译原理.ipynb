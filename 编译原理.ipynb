{
 "cells": [
  {
   "cell_type": "markdown",
   "metadata": {},
   "source": [
    "机器语言machine language`-(编译compiling)->`汇编语言assembly language`-(汇编assembling)->`高级语言high level language  "
   ]
  },
  {
   "cell_type": "markdown",
   "metadata": {},
   "source": [
    "预处理器preprocessor`->`编译器`->`汇编器assembler`->`(可重定位的机器代码)`->`链接器linker、加载器loader \n",
    " \n",
    "[预处理器]() 把储存在不同文件中的源程序聚合在一起；把宏替换  \n",
    "[可重定位relocatable]() 在内存中存放的起始位置不是固定的  \n",
    "[链接器]() 将多个可重定位的机器代码文件(包括库文件)连接到一起,并解决外部内存地址问题  \n",
    "[加载器]() 修改可重定位地址，将修改后的指令和数据放到内存中适当的位置  "
   ]
  }
 ],
 "metadata": {
  "kernelspec": {
   "display_name": "Python 3",
   "language": "python",
   "name": "python3"
  },
  "language_info": {
   "name": "python",
   "version": "3.10.4 (tags/v3.10.4:9d38120, Mar 23 2022, 23:13:41) [MSC v.1929 64 bit (AMD64)]"
  },
  "orig_nbformat": 4,
  "vscode": {
   "interpreter": {
    "hash": "21122d438c167713572c27231bb033586b064ae7cb76530c62e7fadb42029722"
   }
  }
 },
 "nbformat": 4,
 "nbformat_minor": 2
}
