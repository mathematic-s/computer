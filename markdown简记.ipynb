{
 "cells": [
  {
   "attachments": {},
   "cell_type": "markdown",
   "metadata": {},
   "source": [
    "[超链接显示名](超链接地址 \"超链接title\")  \n",
    "![图片alt](图片链接 \"图片title\")  \n",
    "\n",
    ">**卡特兰数** Catalan number <img width=\"50\" height=\"30\" src=\"picture/Snipaste_2022-11-23_20-31-42.png\" />  \n",
    "\n",
    "一般用>的都是指随意移动位置，与上下文无关联的说明,~才是有关联的  \n",
    "\n",
    "<font size =6>目录</font>\n",
    "* [标题](#title)\n",
    "* [颜色](#color)\n",
    "\n",
    "<a id=\"1\"></a>  树  `//定义的id不能有大写字母` \n",
    "\n",
    "\n",
    "<a id=\"1.\"></a> 树的遍历  \n",
    "\n",
    "---"
   ]
  },
  {
   "attachments": {},
   "cell_type": "markdown",
   "metadata": {},
   "source": [
    "# <center> 一级标题居中  <a id =\"title\"></a>\n",
    "## 二级标题\n",
    "**这是加粗的文字**  \n",
    "*这是倾斜的文字*`  \n",
    "***这是斜体加粗的文字***  \n",
    "~~这是加删除线的文字~~  \n",
    "<u>下划线</u>\n",
    ">引用的内容  "
   ]
  },
  {
   "cell_type": "markdown",
   "metadata": {},
   "source": [
    "\n",
    "- 列表内容\n",
    "+ 列表内容\n",
    "* 列表内容\n",
    "1. 列表内容\n",
    "2. 列表内容\n",
    "3. 列表内容   \n",
    "\n",
    "Name | Age\n",
    "--------|------\n",
    "|    Bob | 27|\n",
    "|  Alice | 23|  \n",
    "\n",
    "\n",
    "| Italics   | Bold     | Code   |\n",
    "| --------  | -------- | ------ |\n",
    "| *italics* | **bold** | `code` |\n",
    "\n",
    "---"
   ]
  },
  {
   "attachments": {},
   "cell_type": "markdown",
   "metadata": {},
   "source": [
    "字体颜色  \n",
    "<a id=\"color\"></a>\n",
    "浅红色文字：<font color=\"#dd0000\">浅红色文字：</font><br /> \n",
    "深红色文字：<font color=\"#660000\">深红色文字</font><br /> \n",
    "浅绿色文字：<font color=\"#00dd00\">浅绿色文字</font><br /> \n",
    "深绿色文字：<font color=\"#006600\">深绿色文字</font><br /> \n",
    "浅蓝色文字：<font color=\"#0000dd\">浅蓝色文字</font><br /> \n",
    "深蓝色文字：<font color=\"#000066\">深蓝色文字</font><br /> \n",
    "浅黄色文字：<font color=\"#dddd00\">浅黄色文字</font><br /> \n",
    "深黄色文字：<font color=\"#666600\">深黄色文字</font><br /> \n",
    "浅青色文字：<font color=\"#00dddd\">浅青色文字</font><br /> \n",
    "深青色文字：<font color=\"#006666\">深青色文字</font><br /> \n",
    "浅紫色文字：<font color=\"#dd00dd\">浅紫色文字</font><br /> \n",
    "深紫色文字：<font color=\"#660066\">深紫色文字</font><br /> \n",
    "\n",
    "---"
   ]
  },
  {
   "cell_type": "markdown",
   "metadata": {},
   "source": [
    "size为1：<font size=\"1\">size为1</font><br /> \n",
    "size为2：<font size=\"2\">size为2</font><br /> \n",
    "size为3：<font size=\"3\">size为3</font><br /> \n",
    "size为4：<font size=\"4\">size为4</font><br /> \n",
    "size为10：<font size=\"10\">size为10</font><br /> \n",
    "\n",
    "---"
   ]
  },
  {
   "cell_type": "markdown",
   "metadata": {},
   "source": [
    "<font face=\"黑体\">我是黑体字</font>  \n",
    "<font face=\"宋体\">我是宋体字</font>  \n",
    "<font face=\"微软雅黑\">我是微软雅黑字</font>  \n",
    "<font face=\"fantasy\">我是fantasy字</font>  \n",
    "<font face=\"Helvetica\">我是Helvetica字</font>  \n",
    "\n",
    "---"
   ]
  },
  {
   "attachments": {},
   "cell_type": "markdown",
   "metadata": {},
   "source": [
    "背景色  \n",
    "<table>\n",
    "    <tr>\n",
    "        <td bgcolor=#FF00FF>背景色的设置是按照十六进制颜色值：#7FFFD4</td>\t\t</tr>\n",
    "</table>\n",
    "<table>\n",
    "    <tr>\n",
    "        <td bgcolor=#FF83FA>背景色的设置是按照十六进制颜色值：#FF83FA\n",
    "        </td>\n",
    "    </tr>\n",
    "</table>\n",
    "<table>\n",
    "    <tr>\n",
    "        <td bgcolor=#D1EEEE>背景色的设置是按照十六进制颜色值：#D1EEEE\n",
    "        </td>\n",
    "    </tr>\n",
    "</table>\n",
    "<table>\n",
    "    <tr>\n",
    "        <td bgcolor=#C0FF3E>背景色的设置是按照十六进制颜色值：#C0FF3E\n",
    "        </td>\n",
    "    </tr>\n",
    "</table>\n",
    "<table>\n",
    "    <tr>\n",
    "        <td bgcolor=#54FF9F>背景色的设置是按照十六进制颜色值：#54FF9F\n",
    "        </td>\n",
    "    </tr>\n",
    "</table>\n",
    "<table>\n",
    "    <tr>\n",
    "        <td bgcolor=DarkSeaGreen>这里的背景色是：DarkSeaGreen，此处输入任意想输入的内容\n",
    "        </td>\n",
    "    </tr>\n",
    "</table>\n",
    "\n",
    "---"
   ]
  },
  {
   "attachments": {},
   "cell_type": "markdown",
   "metadata": {},
   "source": [
    "空格  \n",
    "例&ensp;是半角的空格，两个相当于一个中文宽度      \n",
    "例&emsp;是全角的空格，占一个中文宽度  \n",
    "例&nbsp;不换行空格，也是我们按下空格键产生的空格，不会累加    \n",
    "例&thinsp;窄空格，一个中文字符的六分之一宽  \n",
    "\n",
    "---"
   ]
  },
  {
   "attachments": {},
   "cell_type": "markdown",
   "metadata": {},
   "source": [
    "[大括号]() \n",
    "$$ 四大特征\\left\\{\n",
    "\\begin{array}{lcl}\n",
    "行为序列(sequences of actions)\\\\\n",
    "系统执行(system performs)\\\\\n",
    "可观测到的、有价值的结果(observable result of value)\\\\\n",
    "特定的角色(particular actor) \n",
    "\\end{array} \\right.$$"
   ]
  }
 ],
 "metadata": {
  "kernelspec": {
   "display_name": "Python 3",
   "language": "python",
   "name": "python3"
  },
  "language_info": {
   "name": "python",
   "version": "3.10.9 (tags/v3.10.9:1dd9be6, Dec  6 2022, 20:01:21) [MSC v.1934 64 bit (AMD64)]"
  },
  "orig_nbformat": 4,
  "vscode": {
   "interpreter": {
    "hash": "65676bf983ba4a082168debbac8ddc52c51ca84e6d56149af6134a383d9bf768"
   }
  }
 },
 "nbformat": 4,
 "nbformat_minor": 2
}
