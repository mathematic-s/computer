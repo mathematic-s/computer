{
 "cells": [
  {
   "attachments": {},
   "cell_type": "markdown",
   "metadata": {},
   "source": [
    "`git config --global --unset http.proxy`  取消梯子代理  \n",
    "`git init`  初始化一个仓库  "
   ]
  },
  {
   "attachments": {},
   "cell_type": "markdown",
   "metadata": {},
   "source": [
    "`完整错误`：\n",
    "\n",
    " 1 fatal: unable to access 'https://xxxxxx': OpenSSL SSL_read: Connection was aborted, errno 10053 \n",
    "\n",
    ">Git默认限制推送的大小，运行命令更改限制大小即可 增加缓冲\n",
    "\n",
    " git config --global http.postBuffer 524288000 \n",
    "\n",
    ">更改网络认证设置\n",
    "\n",
    " git config --global http.sslVerify \"false\" \n",
    "\n",
    ">更改代理\n"
   ]
  },
  {
   "attachments": {},
   "cell_type": "markdown",
   "metadata": {},
   "source": [
    "配置账户  \n",
    "`git config --global user.name \"name\"`   \n",
    "`git config --global user.email \"email\"`  "
   ]
  },
  {
   "attachments": {},
   "cell_type": "markdown",
   "metadata": {},
   "source": [
    "ipconfig /renew 可以解决一部分网络连接问题  "
   ]
  },
  {
   "attachments": {},
   "cell_type": "markdown",
   "metadata": {},
   "source": [
    "Stage： 暂存区，将代码暂存到本地仓库但不上传。"
   ]
  },
  {
   "attachments": {},
   "cell_type": "markdown",
   "metadata": {},
   "source": [
    "Stash:本地缓存，在切换分支但不提交当前分支时使用"
   ]
  },
  {
   "attachments": {},
   "cell_type": "markdown",
   "metadata": {},
   "source": [
    "git不知道出什么问题了，github端一直回退版本，莫名其妙，都很邪乎。  \n",
    "乐，是我梯子的问题，真的依托答辩。  "
   ]
  },
  {
   "attachments": {},
   "cell_type": "markdown",
   "metadata": {},
   "source": [
    "忽略所有以 .a 结尾的文件  \n",
    "*.a\n",
    "\n",
    "不能忽略所有 lib.a 文件  \n",
    "!lib.a\n",
    "\n",
    "仅仅忽略当前目录下的 TODO 文件  \n",
    "/TODO\n",
    "\n",
    "忽略 build 目录下的所有文件  \n",
    "build/\n",
    "\n",
    "仅仅忽略 doc 一个目录下的所有 .txt 文件  \n",
    "doc/*.txt\n",
    "\n",
    "忽略 doc 目录下（包括子目录）的所有 .pdf 文件  \n",
    "doc/**/*.pdf\n"
   ]
  }
 ],
 "metadata": {
  "kernelspec": {
   "display_name": "Python 3",
   "language": "python",
   "name": "python3"
  },
  "language_info": {
   "name": "python",
   "version": "3.10.9 (tags/v3.10.9:1dd9be6, Dec  6 2022, 20:01:21) [MSC v.1934 64 bit (AMD64)]"
  },
  "orig_nbformat": 4,
  "vscode": {
   "interpreter": {
    "hash": "65676bf983ba4a082168debbac8ddc52c51ca84e6d56149af6134a383d9bf768"
   }
  }
 },
 "nbformat": 4,
 "nbformat_minor": 2
}
