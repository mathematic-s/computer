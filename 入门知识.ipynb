{
 "cells": [
  {
   "cell_type": "markdown",
   "metadata": {},
   "source": [
    "# 前端三件套：[HTML]() 结构，决定网页的结构和内容；[CSS]() 样式，设定网页的表现样式；[JavaScript]() 行为，控制网页的行为。"
   ]
  },
  {
   "cell_type": "markdown",
   "metadata": {},
   "source": [
    "\n",
    "[CGI]() common gateway interface 公共网关接口  \n",
    "[PHP]() hypertext preprocessor  \n",
    "[script]() 脚本语言，是介于HTML和Java、C++和Visual Basic之类的编程语言之间的语言。  \n",
    "[javascript]() 是一种基于对象(Object)和事件驱动(Event Driven)并具有安全性能的脚本语言。  \n",
    "[pps]() precision positioning system网络吞吐率  \n",
    "[API]() application program interface应用程序界面\n",
    "\n",
    "---\n",
    "---\n"
   ]
  },
  {
   "cell_type": "markdown",
   "metadata": {},
   "source": [
    "# <center> [CSS]()  \n",
    "\n",
    "\n",
    "\n",
    "---"
   ]
  },
  {
   "cell_type": "markdown",
   "metadata": {},
   "source": [
    "# <center> [网络搜索]()\n",
    "\n",
    "[inurl:,intitle,intext]() 搜索功能值  \n",
    "[网站后缀]() `com`商业公司，`gov`政府机构，`edu`教育机构，`net`网络服务提供，`org`组织协会机构,`int`国际组织，`co`社区或公司，`info`信息服务提供，`mil`军事机构  \n",
    "[时间限制]() x..y从x年到y年  \n",
    "[指定网站搜索]() 关键词 site:网站网址  "
   ]
  }
 ],
 "metadata": {
  "kernelspec": {
   "display_name": "Python 3",
   "language": "python",
   "name": "python3"
  },
  "language_info": {
   "name": "python",
   "version": "3.10.9 (tags/v3.10.9:1dd9be6, Dec  6 2022, 20:01:21) [MSC v.1934 64 bit (AMD64)]"
  },
  "orig_nbformat": 4,
  "vscode": {
   "interpreter": {
    "hash": "65676bf983ba4a082168debbac8ddc52c51ca84e6d56149af6134a383d9bf768"
   }
  }
 },
 "nbformat": 4,
 "nbformat_minor": 2
}
