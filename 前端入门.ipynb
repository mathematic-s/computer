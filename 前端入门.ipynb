{
 "cells": [
  {
   "attachments": {},
   "cell_type": "markdown",
   "metadata": {},
   "source": [
    "# 前端三件套(静态网页技术)："
   ]
  },
  {
   "cell_type": "markdown",
   "metadata": {},
   "source": [
    "[HTML]() 结构，决定网页的结构和内容；[CSS]() 样式，设定网页的表现样式；[JavaScript]() 行为，控制网页的行为。"
   ]
  },
  {
   "attachments": {},
   "cell_type": "markdown",
   "metadata": {},
   "source": [
    "\n",
    "[CGI]() common gateway interface 公共网关接口  \n",
    "[script]() 脚本语言，是介于HTML和Java、C++和Visual Basic之类的编程语言之间的语言。  \n",
    "[javascript]() 是一种基于对象(Object)和事件驱动(Event Driven)并具有安全性能的脚本语言。  \n",
    "[pps]() precision positioning system网络吞吐率  \n",
    "[API]() application program interface应用程序界面  \n",
    "---\n",
    "---\n"
   ]
  },
  {
   "attachments": {},
   "cell_type": "markdown",
   "metadata": {},
   "source": [
    "#  [CSS]()  \n",
    "\n",
    "\n",
    "\n",
    "---"
   ]
  },
  {
   "attachments": {},
   "cell_type": "markdown",
   "metadata": {},
   "source": [
    "#  [网络搜索]()\n",
    "\n",
    "[inurl:,intitle,intext]() 搜索功能值  \n",
    "[网站后缀]() `com`商业公司，`gov`政府机构，`edu`教育机构，`net`网络服务提供，`org`组织协会机构,`int`国际组织，`co`社区或公司，`info`信息服务提供，`mil`军事机构  \n",
    "[时间限制]() x..y从x年到y年  \n",
    "[指定网站搜索]() 关键词 site:网站网址  \n",
    "\n",
    "---"
   ]
  },
  {
   "attachments": {},
   "cell_type": "markdown",
   "metadata": {},
   "source": [
    "# [Web开发]()  \n"
   ]
  },
  {
   "attachments": {},
   "cell_type": "markdown",
   "metadata": {},
   "source": [
    "$$ 应用软件\\left\\{\n",
    "\\begin{array}{lcl}\n",
    "单机软件(本地应用程序与本地服务端)\\\\\n",
    "C/S结构(本地应用程序与服务器服务端)\\\\\n",
    "B/S结构(浏览器访问)\\\\\n",
    "\\end{array} \\right.$$"
   ]
  },
  {
   "cell_type": "markdown",
   "metadata": {},
   "source": [
    "[胖客户端Fat client]() 是在本地安装了丰富资源的网络电脑，而不是像瘦客户端那样把资源分散到网络中。比如很多PC（个人电脑）就是胖客户端  "
   ]
  },
  {
   "attachments": {},
   "cell_type": "markdown",
   "metadata": {},
   "source": [
    "[HTTP]() 用于传输超媒体文档(例如HTML)的应用层协议  \n",
    "<img width=\"800\" height=\"300\" src=\"picture/Snipaste_2023-02-27_15-57-31.png\">\n",
    "<img width=\"600\" height=\"300\" src=\"picture/Snipaste_2023-02-27_16-18-30.png\">"
   ]
  },
  {
   "attachments": {},
   "cell_type": "markdown",
   "metadata": {},
   "source": [
    "动态网页技术: \n",
    "* [PHP]() hypertext preprocessor  \n",
    "* [JSP]() Java Server Pages JavaEE的动态网页技术  \n",
    "* [ASP:`Active Server Pages`]() 微软公司windows平台动态网页技术  \n",
    "* [ASP.NET]() 微软.NET平台动态网页技术  \n",
    "* [Python]() Django  \n",
    "* [Node]() Express  \n",
    "\n"
   ]
  },
  {
   "attachments": {},
   "cell_type": "markdown",
   "metadata": {},
   "source": [
    "[前端框架]() \n",
    "* Angular\n",
    "    * google\n",
    "    * typescript \n",
    "* React\n",
    "    * facebook\n",
    "    * javascript\n",
    "* Vue\n",
    "    * 尤雨溪"
   ]
  },
  {
   "attachments": {},
   "cell_type": "markdown",
   "metadata": {},
   "source": [
    "[后端框架]()\n",
    "* Java Servlet\n",
    "* SpringBoot\n",
    "* Node Express\n",
    "* PHP\n",
    "* ASP.NET\n",
    "* Python\n",
    "* C++/Golang"
   ]
  },
  {
   "attachments": {},
   "cell_type": "markdown",
   "metadata": {},
   "source": [
    "## [HTML和CSS]()"
   ]
  },
  {
   "attachments": {},
   "cell_type": "markdown",
   "metadata": {},
   "source": [
    "[浏览器内核]()\n",
    "* Trident IE内核\n",
    "* Gecko Firefox内核\n",
    "* Webkit Safari内核\n",
    "* Blink Chrome内核"
   ]
  },
  {
   "attachments": {},
   "cell_type": "markdown",
   "metadata": {},
   "source": [
    "[HTML]() HyperText Markup Language超文本标记语言  \n",
    "[渲染Render]() 浏览器将HTML,CSS,JS展示在页面的过程称之  "
   ]
  },
  {
   "attachments": {},
   "cell_type": "markdown",
   "metadata": {},
   "source": [
    "[嵌套元素]() 将一个元素置于其他元素之中  \n",
    "[空元素(自闭和标签)]() 不含任何内容的元素，如`<img>`  \n",
    "<img width=\"600\" height=\"300\" src=\"picture/Snipaste_2023-03-01_16-25-45.png\">\n",
    "<img width=\"600\" height=\"300\" src=\"picture/Snipaste_2023-03-01_16-28-25.png\">\n",
    "<img width=\"600\" height=\"300\" src=\"picture/Snipaste_2023-03-01_16-38-30.png\">"
   ]
  }
 ],
 "metadata": {
  "kernelspec": {
   "display_name": "Python 3",
   "language": "python",
   "name": "python3"
  },
  "language_info": {
   "name": "python",
   "version": "3.10.9 (tags/v3.10.9:1dd9be6, Dec  6 2022, 20:01:21) [MSC v.1934 64 bit (AMD64)]"
  },
  "orig_nbformat": 4,
  "vscode": {
   "interpreter": {
    "hash": "65676bf983ba4a082168debbac8ddc52c51ca84e6d56149af6134a383d9bf768"
   }
  }
 },
 "nbformat": 4,
 "nbformat_minor": 2
}
