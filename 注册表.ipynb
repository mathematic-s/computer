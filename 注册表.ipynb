{
 "cells": [
  {
   "attachments": {},
   "cell_type": "markdown",
   "metadata": {},
   "source": [
    "[鼠标右键功能键]()  \n",
    "HKEY_CLASSES_ROOT\\*\\shellex\\ContextMenuHandlers  \n",
    "HKEY_CLASSES_ROOT\\Directory\\shell  \n",
    "HKEY_CLASSES_ROOT\\Directory\\shellex\\ContextMenuHandlers  \n",
    "HKEY_CLASSES_ROOT\\Folder\\shell  \n",
    "HKEY_CLASSES_ROOT\\Folder\\shellex\\ContextMenuHandlers  "
   ]
  },
  {
   "attachments": {},
   "cell_type": "markdown",
   "metadata": {},
   "source": [
    "[资源管理器左侧功能]()  \n",
    ";取消文件资源管理器左侧 下载 文件夹  \n",
    "\n",
    "[-HKEY_LOCAL_MACHINE\\SOFTWARE\\Microsoft\\Windows\\CurrentVersion\\Explorer\\MyComputer\\NameSpace\\{088e3905-0323-4b02-9826-5d99428e115f}]  \n",
    "\n",
    ";取消文件资源管理器左侧 3D对象 文件夹  \n",
    "\n",
    "[-HKEY_LOCAL_MACHINE\\SOFTWARE\\Microsoft\\Windows\\CurrentVersion\\Explorer\\MyComputer\\NameSpace\\{0DB7E03F-FC29-4DC6-9020-FF41B59E513A}]  \n",
    "\n",
    ";取消文件资源管理器左侧 图片 文件夹  \n",
    "\n",
    "[-HKEY_LOCAL_MACHINE\\SOFTWARE\\Microsoft\\Windows\\CurrentVersion\\Explorer\\MyComputer\\NameSpace\\{24ad3ad4-a569-4530-98e1-ab02f9417aa8}]  \n",
    "\n",
    ";取消文件资源管理器左侧 音乐 文件夹  \n",
    "\n",
    "[-HKEY_LOCAL_MACHINE\\SOFTWARE\\Microsoft\\Windows\\CurrentVersion\\Explorer\\MyComputer\\NameSpace\\{3dfdf296-dbec-4fb4-81d1-6a3438bcf4de}]  \n",
    "\n",
    ";取消文件资源管理器左侧 桌面 文件夹  \n",
    "\n",
    "[-HKEY_LOCAL_MACHINE\\SOFTWARE\\Microsoft\\Windows\\CurrentVersion\\Explorer\\MyComputer\\NameSpace\\{B4BFCC3A-DB2C-424C-B029-7FE99A87C641}]  \n",
    "\n",
    ";取消文件资源管理器左侧 文档 文件夹  \n",
    "\n",
    "[-HKEY_LOCAL_MACHINE\\SOFTWARE\\Microsoft\\Windows\\CurrentVersion\\Explorer\\MyComputer\\NameSpace\\{d3162b92-9365-467a-956b-92703aca08af}]  \n",
    "\n",
    ";取消文件资源管理器左侧 视频 文件夹  \n",
    "\n",
    "[-HKEY_LOCAL_MACHINE\\SOFTWARE\\Microsoft\\Windows\\CurrentVersion\\Explorer\\MyComputer\\NameSpace\\{f86fa3ab-70d2-4fc7-9c99-fcbf05467f3a}]  "
   ]
  },
  {
   "attachments": {},
   "cell_type": "markdown",
   "metadata": {},
   "source": [
    "[改paint为默认照片查看器]()  \n",
    "HKEY_LOCAL_MACHINE\\SOFTWARE\\Microsoft\\Windows Photo Viewer\\Capabilities\\FileAssociations,这里新建字符串值，名字为.png或.jpg，值设为PhotoViewer.FileAssoc.Tiff，即可出现原来的图片查看器。(发现都不好用)"
   ]
  },
  {
   "attachments": {},
   "cell_type": "markdown",
   "metadata": {},
   "source": [
    "[隐藏右下角图标]()  \n",
    "在注册表中寻找以下路径：HKEY_CURRENT_USER\\Software\\\\(你的应用)，右键它——新建——DWORD (32 位) 值，将新建的注册表命名为：hideTrayIcon,将值赋为1.  "
   ]
  }
 ],
 "metadata": {
  "kernelspec": {
   "display_name": "Python 3",
   "language": "python",
   "name": "python3"
  },
  "language_info": {
   "name": "python",
   "version": "3.10.9 (tags/v3.10.9:1dd9be6, Dec  6 2022, 20:01:21) [MSC v.1934 64 bit (AMD64)]"
  },
  "orig_nbformat": 4,
  "vscode": {
   "interpreter": {
    "hash": "65676bf983ba4a082168debbac8ddc52c51ca84e6d56149af6134a383d9bf768"
   }
  }
 },
 "nbformat": 4,
 "nbformat_minor": 2
}
