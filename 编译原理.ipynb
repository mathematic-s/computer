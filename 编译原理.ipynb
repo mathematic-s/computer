{
 "cells": [
  {
   "cell_type": "markdown",
   "metadata": {},
   "source": [
    "机器语言machine language`-(编译compiling)->`汇编语言assembly language`-(汇编assembling)->`高级语言high level language  "
   ]
  },
  {
   "cell_type": "markdown",
   "metadata": {},
   "source": [
    "预处理器preprocessor`->`编译器`->`汇编器assembler`->`(可重定位的机器代码)`->`链接器linker、加载器loader \n",
    " \n",
    "[预处理器]() 把储存在不同文件中的源程序聚合在一起；把宏替换  \n",
    "[可重定位relocatable]() 在内存中存放的起始位置不是固定的  \n",
    "[链接器]() 将多个可重定位的机器代码文件(包括库文件)连接到一起,并解决外部内存地址问题  \n",
    "[加载器]() 修改可重定位地址，将修改后的指令和数据放到内存中适当的位置  "
   ]
  }
 ],
 "metadata": {
  "kernelspec": {
   "display_name": "Python 3",
   "language": "python",
   "name": "python3"
  },
  "language_info": {
   "name": "python",
   "version": "3.10.9 (tags/v3.10.9:1dd9be6, Dec  6 2022, 20:01:21) [MSC v.1934 64 bit (AMD64)]"
  },
  "orig_nbformat": 4,
  "vscode": {
   "interpreter": {
    "hash": "65676bf983ba4a082168debbac8ddc52c51ca84e6d56149af6134a383d9bf768"
   }
  }
 },
 "nbformat": 4,
 "nbformat_minor": 2
}
