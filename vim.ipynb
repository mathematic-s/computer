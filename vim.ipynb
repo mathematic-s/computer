{
 "cells": [
  {
   "attachments": {},
   "cell_type": "markdown",
   "metadata": {},
   "source": [
    "告别鼠标手，尽快选vim."
   ]
  },
  {
   "attachments": {},
   "cell_type": "markdown",
   "metadata": {},
   "source": [
    "[插入—普通模式]() 在插入模式中使用Ctrl + o 来进入该模式。该模式运行用户暂时回到普通模式，然后在执行一条普通模式的命令之后自动回到插入模式中。"
   ]
  },
  {
   "attachments": {},
   "cell_type": "markdown",
   "metadata": {},
   "source": [
    "# [删除]()  "
   ]
  },
  {
   "attachments": {},
   "cell_type": "markdown",
   "metadata": {},
   "source": [
    "插入模式下删除：  \n",
    "<Ctrl + h>: 删除光标前一个词(与退格键相同)  \n",
    "<Ctrl + w>: 删除光标前一个单词  \n",
    "<Ctrl + u>: 删除至行首  "
   ]
  },
  {
   "attachments": {},
   "cell_type": "markdown",
   "metadata": {},
   "source": [
    "# [替换]()"
   ]
  },
  {
   "attachments": {},
   "cell_type": "markdown",
   "metadata": {},
   "source": [
    "# [移动]()"
   ]
  },
  {
   "attachments": {},
   "cell_type": "markdown",
   "metadata": {},
   "source": [
    "gg\t光标移动到文件开头  \n",
    "G\t光标移动至文件末尾  \n",
    "\n",
    "b 或 B\t光标移动至上一个单词的单词首  \n",
    "w 或 W\t光标移动至下一个单词的单词首  \n",
    "\n",
    "fx\t光标移动至当前行中下一个 x 字符处  \n",
    "Fx \t光标移动至当前行中上一个 x 字符处  "
   ]
  }
 ],
 "metadata": {
  "kernelspec": {
   "display_name": "Python 3",
   "language": "python",
   "name": "python3"
  },
  "language_info": {
   "name": "python",
   "version": "3.10.9 (tags/v3.10.9:1dd9be6, Dec  6 2022, 20:01:21) [MSC v.1934 64 bit (AMD64)]"
  },
  "orig_nbformat": 4,
  "vscode": {
   "interpreter": {
    "hash": "65676bf983ba4a082168debbac8ddc52c51ca84e6d56149af6134a383d9bf768"
   }
  }
 },
 "nbformat": 4,
 "nbformat_minor": 2
}
