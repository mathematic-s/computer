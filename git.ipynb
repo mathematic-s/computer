{
 "cells": [
  {
   "cell_type": "markdown",
   "metadata": {},
   "source": [
    "`git config --global --unset http.proxy`  \n",
    "`git init`  \n",
    "`git config --global http.sslVerify \"false\"`"
   ]
  },
  {
   "attachments": {},
   "cell_type": "markdown",
   "metadata": {},
   "source": [
    "`完整错误`：\n",
    "\n",
    " 1 fatal: unable to access 'https://xxxxxx': OpenSSL SSL_read: Connection was aborted, errno 10053 \n",
    "\n",
    ">Git默认限制推送的大小，运行命令更改限制大小即可 增加缓冲\n",
    "\n",
    " git config --global http.postBuffer 524288000 \n",
    "\n",
    ">更改网络认证设置\n",
    "\n",
    " git config --global http.sslVerify \"false\" \n",
    "\n",
    ">更改代理\n"
   ]
  },
  {
   "attachments": {},
   "cell_type": "markdown",
   "metadata": {},
   "source": [
    "配置账户  \n",
    "`git config --global user.name \"name\"`   \n",
    "`git config --global user.email \"email\"`  "
   ]
  }
 ],
 "metadata": {
  "kernelspec": {
   "display_name": "Python 3",
   "language": "python",
   "name": "python3"
  },
  "language_info": {
   "name": "python",
   "version": "3.10.9 (tags/v3.10.9:1dd9be6, Dec  6 2022, 20:01:21) [MSC v.1934 64 bit (AMD64)]"
  },
  "orig_nbformat": 4,
  "vscode": {
   "interpreter": {
    "hash": "65676bf983ba4a082168debbac8ddc52c51ca84e6d56149af6134a383d9bf768"
   }
  }
 },
 "nbformat": 4,
 "nbformat_minor": 2
}
