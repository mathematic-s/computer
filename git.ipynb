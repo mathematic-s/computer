{
 "cells": [
  {
   "cell_type": "markdown",
   "metadata": {},
   "source": [
    "`git config --global --unset http.proxy`  \n",
    "`git init`  \n",
    "`git config --global http.sslVerify \"false\"`"
   ]
  },
  {
   "attachments": {},
   "cell_type": "markdown",
   "metadata": {},
   "source": [
    "`完整错误`：\n",
    "\n",
    " 1 fatal: unable to access 'https://xxxxxx': OpenSSL SSL_read: Connection was aborted, errno 10053 \n",
    "\n",
    ">Git默认限制推送的大小，运行命令更改限制大小即可 增加缓冲\n",
    "\n",
    " git config --global http.postBuffer 524288000 \n",
    "\n",
    ">更改网络认证设置\n",
    "\n",
    " git config --global http.sslVerify \"false\" \n",
    "\n",
    ">更改代理\n"
   ]
  }
 ],
 "metadata": {
  "kernelspec": {
   "display_name": "Python 3",
   "language": "python",
   "name": "python3"
  },
  "language_info": {
   "name": "python",
   "version": "3.10.4 (tags/v3.10.4:9d38120, Mar 23 2022, 23:13:41) [MSC v.1929 64 bit (AMD64)]"
  },
  "orig_nbformat": 4,
  "vscode": {
   "interpreter": {
    "hash": "21122d438c167713572c27231bb033586b064ae7cb76530c62e7fadb42029722"
   }
  }
 },
 "nbformat": 4,
 "nbformat_minor": 2
}
