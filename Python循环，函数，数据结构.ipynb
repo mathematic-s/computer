{
 "cells": [
  {
   "cell_type": "markdown",
   "metadata": {},
   "source": [
    "单引号和双引号一样"
   ]
  },
  {
   "attachments": {},
   "cell_type": "markdown",
   "metadata": {},
   "source": [
    "![符号简介](picture/2022-09-18-15-44-32.png)"
   ]
  },
  {
   "cell_type": "markdown",
   "metadata": {},
   "source": [
    "`def` 定义函数"
   ]
  },
  {
   "cell_type": "markdown",
   "metadata": {},
   "source": [
    "`*arg `可变参数"
   ]
  },
  {
   "cell_type": "markdown",
   "metadata": {},
   "source": [
    "`from .py import function`"
   ]
  },
  {
   "cell_type": "markdown",
   "metadata": {},
   "source": [
    "`import .py as name` 起别名"
   ]
  },
  {
   "cell_type": "markdown",
   "metadata": {},
   "source": [
    "`__name__`是Python中一个隐含的变量它代表了模块的名字  \n",
    " 只有被Python解释器直接执行的模块的名字才是`__main__` "
   ]
  },
  {
   "cell_type": "markdown",
   "metadata": {},
   "source": [
    "如果我们导入的模块除了定义函数之外还有可以执行代码，那么Python解释器在导入这个模块时就会执行这些代码"
   ]
  },
  {
   "cell_type": "markdown",
   "metadata": {},
   "source": [
    "`global`关键字来指示函数中的变量来自于全局作用域"
   ]
  },
  {
   "cell_type": "markdown",
   "metadata": {},
   "source": [
    "# ***The Law of Demeter (LoD) or principle of least knowledge***  \n",
    "> is a design guideline for developing software, particularly object-oriented programs. In its general form, the LoD is a specific case of loose coupling. The guideline was proposed by Ian Holland at Northeastern University towards the end of 1987, and can be succinctly summarized in each of the following ways:\n",
    "\n",
    ">1. Each unit should have only limited knowledge about other units: only units \"closely\" related to the current unit.  \n",
    ">2. Each unit should only talk to its friends; don't talk to strangers.  \n",
    ">3. Only talk to your immediate friends."
   ]
  },
  {
   "cell_type": "markdown",
   "metadata": {},
   "source": [
    "```\n",
    "def main():\n",
    "    # Todo: Add your code here\n",
    "    pass\n",
    "\n",
    "\n",
    "if __name__ == '__main__':\n",
    "    main()\n",
    "```\n",
    "从现在开始我们可以将Python代码按照上面的格式进行书写，这一点点的改进其实就是在我们理解了函数和作用域的基础上跨出的巨大的一步。"
   ]
  },
  {
   "cell_type": "markdown",
   "metadata": {},
   "source": [
    "在\\后面还可以跟一个八进制或者十六进制数来表示字符，例如\\141和\\x61都代表小写字母a"
   ]
  },
  {
   "cell_type": "markdown",
   "metadata": {},
   "source": [
    "`sys.getsizeof()`相当于C++的sizeof()"
   ]
  },
  {
   "cell_type": "markdown",
   "metadata": {},
   "source": [
    "`yield` 相当于return(默认为iter类型)\n"
   ]
  },
  {
   "cell_type": "markdown",
   "metadata": {},
   "source": [
    "元组（定义方式为（，，）），默认无法修改\n"
   ]
  },
  {
   "cell_type": "markdown",
   "metadata": {},
   "source": [
    "集合{}"
   ]
  },
  {
   "cell_type": "markdown",
   "metadata": {},
   "source": [
    "```\n",
    "print(f'{a} * {b} = {a * b}')\n",
    "print('{0} * {1} = {2}'.format(a,b,a*b))\n",
    "print('%d * %d = %d'%(a,b,a*b))\n",
    "```"
   ]
  },
  {
   "cell_type": "markdown",
   "metadata": {},
   "source": [
    "`add()` 添加元素  \n",
    "`update()`添加元素或集合"
   ]
  },
  {
   "cell_type": "markdown",
   "metadata": {},
   "source": [
    "```\n",
    "str1 = 'hello, world!'\n",
    "# 通过内置函数len计算字符串的长度\n",
    "print(len(str1)) # 13\n",
    "# 获得字符串首字母大写的拷贝\n",
    "print(str1.capitalize()) # Hello, world!\n",
    "# 获得字符串每个单词首字母大写的拷贝\n",
    "print(str1.title()) # Hello, World!\n",
    "# 获得字符串变大写后的拷贝\n",
    "print(str1.upper()) # HELLO, WORLD!\n",
    "# 从字符串中查找子串所在位置\n",
    "print(str1.find('or')) # 8\n",
    "print(str1.find('shit')) # -1\n",
    "# 与find类似但找不到子串时会引发异常\n",
    "# print(str1.index('or'))\n",
    "# print(str1.index('shit'))\n",
    "# 检查字符串是否以指定的字符串开头\n",
    "print(str1.startswith('He')) # False\n",
    "print(str1.startswith('hel')) # True\n",
    "# 检查字符串是否以指定的字符串结尾\n",
    "print(str1.endswith('!')) # True\n",
    "# 将字符串以指定的宽度居中并在两侧填充指定的字符\n",
    "print(str1.center(50, '*'))\n",
    "# 将字符串以指定的宽度靠右放置左侧填充指定的字符\n",
    "print(str1.rjust(50, ' '))\n",
    "str2 = 'abc123456'\n",
    "# 检查字符串是否由数字构成\n",
    "print(str2.isdigit())  # False\n",
    "# 检查字符串是否以字母构成\n",
    "print(str2.isalpha())  # False\n",
    "# 检查字符串是否以数字和字母构成\n",
    "print(str2.isalnum())  # True\n",
    "str3 = '  jackfrued@126.com '\n",
    "print(str3)\n",
    "# 获得字符串修剪左右两侧空格之后的拷贝\n",
    "print(str3.strip())\n",
    "```"
   ]
  }
 ],
 "metadata": {
  "kernelspec": {
   "display_name": "Python 3",
   "language": "python",
   "name": "python3"
  },
  "language_info": {
   "name": "python",
   "version": "3.10.9 (tags/v3.10.9:1dd9be6, Dec  6 2022, 20:01:21) [MSC v.1934 64 bit (AMD64)]"
  },
  "orig_nbformat": 4,
  "vscode": {
   "interpreter": {
    "hash": "65676bf983ba4a082168debbac8ddc52c51ca84e6d56149af6134a383d9bf768"
   }
  }
 },
 "nbformat": 4,
 "nbformat_minor": 2
}
