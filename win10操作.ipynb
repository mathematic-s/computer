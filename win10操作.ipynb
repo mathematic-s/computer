{
 "cells": [
  {
   "attachments": {},
   "cell_type": "markdown",
   "metadata": {},
   "source": [
    ">`Win+Shift+S`就可以快速截图了  "
   ]
  },
  {
   "attachments": {},
   "cell_type": "markdown",
   "metadata": {},
   "source": [
    ">当我们打开很多窗口的时候，想快速将其他窗口最小化，只需要拖动当前窗口快速「抖动」两下即可实现。  "
   ]
  },
  {
   "attachments": {},
   "cell_type": "markdown",
   "metadata": {},
   "source": [
    "\n",
    ">`Alt+Tab`快速切换到不同的窗口视图，`shift+tab`反向切换。  \n",
    "`Ctrl+Tab`快速切换浏览器窗口  "
   ]
  },
  {
   "attachments": {},
   "cell_type": "markdown",
   "metadata": {},
   "source": [
    "[chrome开启夜间模式]() 打开chrome://flags 搜索force dark mode   "
   ]
  },
  {
   "attachments": {},
   "cell_type": "markdown",
   "metadata": {},
   "source": [
    "虚拟桌面  \n",
    ">ctrl+win+d 新建虚拟桌面  \n",
    "ctrl+win+`->` 切换虚拟桌面  \n",
    ">win+tab 弹出窗口总览  "
   ]
  },
  {
   "cell_type": "markdown",
   "metadata": {},
   "source": [
    "f11调整网页全屏"
   ]
  },
  {
   "attachments": {},
   "cell_type": "markdown",
   "metadata": {},
   "source": [
    "`F1`帮助  \n",
    "`F2`改名  \n",
    "`F5`刷新  "
   ]
  },
  {
   "attachments": {},
   "cell_type": "markdown",
   "metadata": {},
   "source": [
    "`tab`改变焦点"
   ]
  },
  {
   "attachments": {},
   "cell_type": "markdown",
   "metadata": {},
   "source": [
    "`Ctrl+D`  打开“添加收藏”面版(把当前页面添加到收藏夹中)  \n",
    "`ctrl+W`  关闭当前页面  \n",
    "`Ctrl+Y`　 重做刚才动作(一般只用于文本操作)  \n",
    "`Ctrl+*`　恢复当前页面的缩放为原始大小  "
   ]
  },
  {
   "cell_type": "markdown",
   "metadata": {},
   "source": [
    "`alt+f4`关闭当前应用"
   ]
  },
  {
   "attachments": {},
   "cell_type": "markdown",
   "metadata": {},
   "source": [
    "`win+tab` 在打开的项目之间切换  \n",
    "`win+a`电脑通知栏  \n",
    "`win+q`全局搜索界面  \n",
    "`win+h`语音输入  "
   ]
  },
  {
   "attachments": {},
   "cell_type": "markdown",
   "metadata": {},
   "source": [
    "机器开机出现标志的时候按`F10`进入BIOS"
   ]
  },
  {
   "attachments": {},
   "cell_type": "markdown",
   "metadata": {},
   "source": [
    "CG392-4PX5J-H816Z-HYZNG-PQRG2"
   ]
  }
 ],
 "metadata": {
  "kernelspec": {
   "display_name": "Python 3",
   "language": "python",
   "name": "python3"
  },
  "language_info": {
   "name": "python",
   "version": "3.10.9 (tags/v3.10.9:1dd9be6, Dec  6 2022, 20:01:21) [MSC v.1934 64 bit (AMD64)]"
  },
  "orig_nbformat": 4,
  "vscode": {
   "interpreter": {
    "hash": "65676bf983ba4a082168debbac8ddc52c51ca84e6d56149af6134a383d9bf768"
   }
  }
 },
 "nbformat": 4,
 "nbformat_minor": 2
}
