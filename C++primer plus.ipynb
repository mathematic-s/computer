{
 "cells": [
  {
   "cell_type": "markdown",
   "metadata": {},
   "source": [
    ">作为C++经典"
   ]
  },
  {
   "attachments": {},
   "cell_type": "markdown",
   "metadata": {},
   "source": [
    "#  [5 循环和关系表达式]()"
   ]
  },
  {
   "attachments": {},
   "cell_type": "markdown",
   "metadata": {},
   "source": [
    "`int x=(1,024);`值为二十"
   ]
  },
  {
   "attachments": {},
   "cell_type": "markdown",
   "metadata": {},
   "source": [
    "#  [6 分支语句和逻辑运算符]()"
   ]
  },
  {
   "cell_type": "markdown",
   "metadata": {},
   "source": [
    "`and or not`都是C++中的保留字，如果C想用，包含头文件`<ios646.h>`"
   ]
  },
  {
   "attachments": {},
   "cell_type": "markdown",
   "metadata": {},
   "source": [
    "`ofstream`对象，格式类似于`cout`，实现文件输入与输出。有子函数`open(),close()`"
   ]
  },
  {
   "attachments": {},
   "cell_type": "markdown",
   "metadata": {},
   "source": [
    "#  [7 函数 C++的编程模块]()"
   ]
  },
  {
   "cell_type": "markdown",
   "metadata": {},
   "source": [
    "函数原型中不必提供变量名，只需有数据类型就行  \n",
    "(...) 表示不指定参数  \n",
    "在编译阶段进行的原型化被称为<u>静态类型检查</u>"
   ]
  },
  {
   "cell_type": "markdown",
   "metadata": {},
   "source": [
    "arguement 表示实参，parameter表示形参"
   ]
  },
  {
   "cell_type": "markdown",
   "metadata": {},
   "source": [
    "指针和`const`,这两个一结合就麻烦起来了"
   ]
  },
  {
   "cell_type": "markdown",
   "metadata": {},
   "source": [
    "与C不同，C++不允许main()调用自己"
   ]
  },
  {
   "cell_type": "markdown",
   "metadata": {},
   "source": [
    "递归，分治思想 divide-and-conquer strategy"
   ]
  },
  {
   "cell_type": "markdown",
   "metadata": {},
   "source": [
    "获取函数地址的方法很简单，只需要使用函数名（后边不加括号）即可。"
   ]
  },
  {
   "attachments": {},
   "cell_type": "markdown",
   "metadata": {},
   "source": [
    "`double pm(int);`  \n",
    "`double (*pf)(int)`  \n",
    "`pf =pam;`  \n",
    "则定义出一个指向pm()的函数指针,这个函数指针可以这么用`pf(4)`,等价于`(*pf)(4)`  \n",
    "忍受逻辑上无法自圆其说的观点正是人类思维活动的特点。"
   ]
  },
  {
   "attachments": {},
   "cell_type": "markdown",
   "metadata": {},
   "source": [
    "#  [8 函数探幽]()"
   ]
  },
  {
   "cell_type": "markdown",
   "metadata": {},
   "source": [
    "如果实参与引用参数不匹配，C++将生成临时变量。当前，仅当参数为const引用时，C++才允许这样做，但以前不是这样。"
   ]
  },
  {
   "cell_type": "markdown",
   "metadata": {},
   "source": [
    "**左值** 可被引用的数据对象。"
   ]
  },
  {
   "cell_type": "markdown",
   "metadata": {},
   "source": [
    "`long edge =5L;`5L代表long类型的5"
   ]
  },
  {
   "cell_type": "markdown",
   "metadata": {},
   "source": [
    "如果接受引用参数的函数的意图是修改作为参数传递的变量，则创建临时变量将阻止这种意图的实现。解决方法是，禁止创建临时变量，现在的C++标准正是这样做的（然而，在默认情况下，有些编译器仍将发出警告，而不是错误消息，因此如果看到了有关临时变量的警告，请不要忽略）。\n"
   ]
  },
  {
   "cell_type": "markdown",
   "metadata": {},
   "source": [
    "`&&`表示右值引用。右值，不能通过地址访问的值。"
   ]
  },
  {
   "cell_type": "markdown",
   "metadata": {},
   "source": [
    "`NULL`在C中是(void*)0,C++中为整数0.c++中当一个指针的值为0时，认为指针为空指针"
   ]
  },
  {
   "cell_type": "markdown",
   "metadata": {},
   "source": [
    "`void*`无类型指针"
   ]
  },
  {
   "cell_type": "markdown",
   "metadata": {},
   "source": [
    "[返回引用]()主要是为了更高的效率，减少拷贝。"
   ]
  },
  {
   "cell_type": "markdown",
   "metadata": {},
   "source": [
    "要为某个参数设置默认值，则必须为他右边的所有参数提供默认值。"
   ]
  },
  {
   "cell_type": "markdown",
   "metadata": {},
   "source": [
    "[函数重载]() 关键是函数特征标(function signature),即函数参数列表。"
   ]
  },
  {
   "attachments": {},
   "cell_type": "markdown",
   "metadata": {},
   "source": [
    "[函数模板]()  \n",
    "`template<typename AnyType>`定义了一种无类型变量`AnyType`\n",
    "\n",
    ">实例化和具体化\n",
    "\n",
    "`decltype(x) y`make y the same type as x  "
   ]
  },
  {
   "attachments": {},
   "cell_type": "markdown",
   "metadata": {},
   "source": [
    "#  [9 内存模型和名称空间]()\n"
   ]
  },
  {
   "cell_type": "markdown",
   "metadata": {},
   "source": [
    "\n",
    "不要使用#include来包含源代码文件，这样做将导致多重声明。  \n",
    "\n",
    "`#ifndef` if not define  \n",
    "\n"
   ]
  },
  {
   "attachments": {},
   "cell_type": "markdown",
   "metadata": {},
   "source": [
    "`register int x;`  \n",
    "指出程序员想使用一个自动变量，在C++11中，这种提示作用也失去了，保留关键字register的重要原因是，避免使用了该关键字的现有代码非法。\n"
   ]
  },
  {
   "attachments": {},
   "cell_type": "markdown",
   "metadata": {},
   "source": [
    "$$ 链接性\\left\\{\n",
    "\\begin{array}{lcl}\n",
    "外部\\\\\n",
    "内部\\\\\n",
    "无\\\\\n",
    "\\end{array} \\right.$$\n"
   ]
  },
  {
   "cell_type": "markdown",
   "metadata": {},
   "source": [
    "[cv限制符]() const和volatile  \n",
    "`const`表明内存被初始化后程序便不能再对它进行修改  \n",
    "`volatile`表明，即使程序代码没有对内存单位进行修改，其值也可能发生变化  \n"
   ]
  },
  {
   "attachments": {},
   "cell_type": "markdown",
   "metadata": {},
   "source": [
    "[mutable]() 指出某个变量可以被修改  \n"
   ]
  },
  {
   "attachments": {},
   "cell_type": "markdown",
   "metadata": {},
   "source": [
    "对函数使用static修饰表明该函数只在这个文件中可见  "
   ]
  },
  {
   "attachments": {},
   "cell_type": "markdown",
   "metadata": {},
   "source": [
    "# 10 [对象和类]()"
   ]
  },
  {
   "attachments": {},
   "cell_type": "markdown",
   "metadata": {},
   "source": [
    "[接口]()一个共享框架，供两个系统交互时使用。  "
   ]
  }
 ],
 "metadata": {
  "kernelspec": {
   "display_name": "Python 3",
   "language": "python",
   "name": "python3"
  },
  "language_info": {
   "codemirror_mode": {
    "name": "ipython",
    "version": 3
   },
   "file_extension": ".py",
   "mimetype": "text/x-python",
   "name": "python",
   "nbconvert_exporter": "python",
   "pygments_lexer": "ipython3",
   "version": "3.10.4 (tags/v3.10.4:9d38120, Mar 23 2022, 23:13:41) [MSC v.1929 64 bit (AMD64)]"
  },
  "orig_nbformat": 4,
  "vscode": {
   "interpreter": {
    "hash": "21122d438c167713572c27231bb033586b064ae7cb76530c62e7fadb42029722"
   }
  }
 },
 "nbformat": 4,
 "nbformat_minor": 2
}
