{
 "cells": [
  {
   "attachments": {},
   "cell_type": "markdown",
   "metadata": {},
   "source": [
    "# [标题heading]()\n",
    "\n",
    "<h1>主标题</h1>\n",
    "<h2>顶层标题</h2>  \n",
    "...(递推)"
   ]
  },
  {
   "attachments": {},
   "cell_type": "markdown",
   "metadata": {},
   "source": [
    "# [段落paragraph]()\n",
    "\n",
    "<p>这是一个段落</p>\n",
    "<p>这是另一个段落</p>"
   ]
  },
  {
   "attachments": {},
   "cell_type": "markdown",
   "metadata": {},
   "source": [
    "# [列表list]()\n",
    "* 无序列表\n",
    "    <ul>\n",
    "        <li>豆浆</li>\n",
    "        <li>油条</li>\n",
    "    </ul>\n",
    "\n",
    "* 有序列表\n",
    "    <ol>\n",
    "        <li>豆浆</li>\n",
    "        <li>油条</li>\n",
    "    </ol>\n",
    "* 定义列表(标题和描述文本)\n",
    "    <dl>\n",
    "        <dt>豆浆<dt>\n",
    "        <dd>很好喝<dd>\n",
    "        <dt>油条<dt>\n",
    "        <dd>很好吃<dd>\n",
    "    </dl>"
   ]
  },
  {
   "attachments": {},
   "cell_type": "markdown",
   "metadata": {},
   "source": [
    "# [超链接anchor]()"
   ]
  },
  {
   "attachments": {},
   "cell_type": "markdown",
   "metadata": {},
   "source": [
    "<a href=\"vim.ipynb\">vim指南</a>  \n",
    "\n",
    "<center> <img src=\"picture/Snipaste_2023-03-03_17-04-40.png\" height=\"300\" width=\"600\">"
   ]
  },
  {
   "attachments": {},
   "cell_type": "markdown",
   "metadata": {},
   "source": [
    "# [表格table]() "
   ]
  },
  {
   "attachments": {},
   "cell_type": "markdown",
   "metadata": {},
   "source": [
    "<table border=\"1\">\n",
    "    <tr>\n",
    "        <th>姓名</th>\n",
    "        <th>性别</th>\n",
    "        <th>e-mail</th>\n",
    "    </tr>\n",
    "    <tr>\n",
    "        <td>BillGates</td>\n",
    "        <td>Male</td>\n",
    "        <td>askbill@microsoft.com</td>\n",
    "    </tr>\n",
    "    <tr>\n",
    "        <td>马云</td>\n",
    "        <td>Male</td>\n",
    "        <td>jackma@alibaba-inc.com</td>\n",
    "    </tr>\n",
    "</table>"
   ]
  },
  {
   "attachments": {},
   "cell_type": "markdown",
   "metadata": {},
   "source": [
    "# [常用元素和其他元素]()"
   ]
  },
  {
   "attachments": {},
   "cell_type": "markdown",
   "metadata": {},
   "source": [
    "* 内联元素(inline element):  \n",
    "<p>Hello,<span style=\"color:#FF0000\">Trump</span>!</p>\n",
    "\n",
    "\n",
    "* 块级元素(block element):  \n",
    "<div style=\"color:#FF0000\">\n",
    "    <h3>This is a header</h3>\n",
    "    <p>This is a paragraph.</p>\n",
    "</div>\n",
    "\n",
    "\n",
    "* 音频(audio)\n",
    "\n",
    "\n",
    "* 视频(video)\n",
    "\n",
    "\n",
    "* 画布(canvas)\n",
    "\n",
    "\n",
    "* 矢量图(svg)\n",
    "\n"
   ]
  },
  {
   "attachments": {},
   "cell_type": "markdown",
   "metadata": {},
   "source": [
    "# [表单form]()"
   ]
  },
  {
   "attachments": {},
   "cell_type": "markdown",
   "metadata": {},
   "source": [
    "<form action=\"hello.php\" method=\"post\">\n",
    "    First name:<br>\n",
    "    <input type=\"text\" name=\"firstname\" value=\"Donald\" /><br>\n",
    "    Last name:<br>\n",
    "    <input type=\"text\" name=\"lastname\"  value=\"Trump\" /><br><br>\n",
    "    <input type=\"submit\" value=\"Submit\" />\n",
    "</form>\n",
    "\n",
    "别点这里的Submit，会发生未知的事"
   ]
  },
  {
   "attachments": {},
   "cell_type": "markdown",
   "metadata": {},
   "source": [
    "&emsp;&emsp;input的元素:  \n",
    "text password radio checkbox button hidden submit reset datalist number date color range month week time datetime-local email search tel url"
   ]
  },
  {
   "attachments": {},
   "cell_type": "markdown",
   "metadata": {},
   "source": [
    "# 一些标签"
   ]
  },
  {
   "attachments": {},
   "cell_type": "markdown",
   "metadata": {},
   "source": [
    "* button  \n",
    "* select和option \n",
    "* label textarea \n",
    "* frame和frameset \n",
    "* iframe\n",
    "*  output\n"
   ]
  }
 ],
 "metadata": {
  "language_info": {
   "name": "python"
  },
  "orig_nbformat": 4
 },
 "nbformat": 4,
 "nbformat_minor": 2
}
