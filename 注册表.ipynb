{
 "cells": [
  {
   "attachments": {},
   "cell_type": "markdown",
   "metadata": {},
   "source": [
    "[鼠标右键功能键]()  \n",
    "HKEY_CLASSES_ROOT\\*\\shellex\\ContextMenuHandlers  \n",
    "HKEY_CLASSES_ROOT\\Directory\\shell  \n",
    "HKEY_CLASSES_ROOT\\Directory\\shellex\\ContextMenuHandlers  \n",
    "HKEY_CLASSES_ROOT\\Folder\\shell  \n",
    "HKEY_CLASSES_ROOT\\Folder\\shellex\\ContextMenuHandlers  "
   ]
  }
 ],
 "metadata": {
  "kernelspec": {
   "display_name": "Python 3",
   "language": "python",
   "name": "python3"
  },
  "language_info": {
   "name": "python",
   "version": "3.10.4 (tags/v3.10.4:9d38120, Mar 23 2022, 23:13:41) [MSC v.1929 64 bit (AMD64)]"
  },
  "orig_nbformat": 4,
  "vscode": {
   "interpreter": {
    "hash": "21122d438c167713572c27231bb033586b064ae7cb76530c62e7fadb42029722"
   }
  }
 },
 "nbformat": 4,
 "nbformat_minor": 2
}
